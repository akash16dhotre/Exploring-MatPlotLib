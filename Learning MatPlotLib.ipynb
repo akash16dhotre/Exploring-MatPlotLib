{
 "cells": [
  {
   "cell_type": "code",
   "execution_count": null,
   "metadata": {},
   "outputs": [],
   "source": [
    "import matplotlib.pyplot as plt\n",
    "%matplotlib inline # Whenever we want to show the graph we have to use plt.show(); With this line we do not need to show"
   ]
  },
  {
   "cell_type": "code",
   "execution_count": null,
   "metadata": {},
   "outputs": [],
   "source": [
    "import numpy as np"
   ]
  },
  {
   "cell_type": "code",
   "execution_count": null,
   "metadata": {},
   "outputs": [],
   "source": [
    "x = np.arange(40,50) # It is 'arange' and not 'arrange' - Single 'r';\n",
    "y = np.arange(60,70)"
   ]
  },
  {
   "cell_type": "markdown",
   "metadata": {},
   "source": [
    "# Let us start with a scatter plot"
   ]
  },
  {
   "cell_type": "code",
   "execution_count": null,
   "metadata": {},
   "outputs": [],
   "source": [
    "plt.scatter(x,y, c='g') # X value, Y value; c = g that is 'green' color\n",
    "plt.show()"
   ]
  },
  {
   "cell_type": "markdown",
   "metadata": {},
   "source": [
    "Now let us give title to the graph and name to the axis "
   ]
  },
  {
   "cell_type": "code",
   "execution_count": null,
   "metadata": {},
   "outputs": [],
   "source": [
    "plt.scatter(x,y, c=\"g\") # We see scatter plot\n",
    "plt.xlabel('x axis')\n",
    "plt.ylabel('y axis')\n",
    "plt.title('Demo graph in 2D')\n",
    "plt.savefig('demograph.png') # We also saved the image in our folder with this command"
   ]
  },
  {
   "cell_type": "code",
   "execution_count": null,
   "metadata": {},
   "outputs": [],
   "source": [
    "y=x*x"
   ]
  },
  {
   "cell_type": "code",
   "execution_count": null,
   "metadata": {},
   "outputs": [],
   "source": [
    "plt.plot(x, y, 'r*', linestyle='dashed', linewidth=2, markersize=12) # More styling like CSS\n",
    "plt.xlabel('x axis')\n",
    "plt.ylabel('y axis')\n",
    "plt.title('Demo graph in 2D')\n",
    "\n",
    "# Basic plot 'r--' gives red dotted line; it is case sensitive - changing r > b will give blue color and so on\n",
    "# 'ro' >> o on the intercepts\n",
    "# 'r*' >> * at the intercepts\n"
   ]
  },
  {
   "cell_type": "markdown",
   "metadata": {},
   "source": [
    "Let us create subplots. As the name suggest 'subplot' means to create multiple graphs within one canvas"
   ]
  },
  {
   "cell_type": "code",
   "execution_count": null,
   "metadata": {},
   "outputs": [],
   "source": [
    "plt.subplot(2,2,1) # 2,2 are the rows and columns ; 1 = index (1st graph)\n",
    "plt.plot(x,y,'ro') # Plot\n",
    "\n",
    "plt.subplot(2,2,2) # plt.subplot(2,2,1) # 2,2 are the rows and columns ; 2 = index (2nd graph)\n",
    "plt.plot(x,y,'black')\n",
    "\n",
    "plt.subplot(2,2,3) # 2,2 are the rows and columns ; 3 = index (3rd graph)\n",
    "plt.plot(x,y,'b--')\n",
    "\n",
    "plt.subplot(2,2,4) # 2,2 are the rows and columns ; 4 = index (4th graph)\n",
    "plt.plot(x,y,'g*--')\n"
   ]
  },
  {
   "cell_type": "markdown",
   "metadata": {},
   "source": [
    "# Sine Wave"
   ]
  },
  {
   "cell_type": "markdown",
   "metadata": {},
   "source": [
    "Now let us create sine waves by using NumPy"
   ]
  },
  {
   "cell_type": "code",
   "execution_count": null,
   "metadata": {},
   "outputs": [],
   "source": [
    "np.pi # Value of pi"
   ]
  },
  {
   "cell_type": "code",
   "execution_count": null,
   "metadata": {},
   "outputs": [],
   "source": [
    "# Let us produce x and y coordinates for points on a sine curve\n",
    "x= np.arange(0, 4 * np.pi, 0.1) \n",
    "y= np.sin(x)\n",
    "plt.title('Sine wave')\n",
    "\n",
    "plt.plot(x, y)\n",
    "plt.show()"
   ]
  },
  {
   "cell_type": "code",
   "execution_count": null,
   "metadata": {},
   "outputs": [],
   "source": [
    "# Compute the x and y coordinates for points on sine and cosine curves \n",
    "x = np.arange(0, 5 * np.pi, 0.1) \n",
    "y_sin = np.sin(x) \n",
    "y_cos = np.cos(x)  \n",
    "   \n",
    "# Set up a subplot grid that has height 2 and width 1, \n",
    "# and set the first such subplot as active. \n",
    "plt.subplot(2, 1, 1)\n",
    "   \n",
    "# Make the first plot \n",
    "plt.plot(x, y_sin,'r--') \n",
    "plt.title('Sine')  \n",
    "   \n",
    "# Set the second subplot as active, and make the second plot. \n",
    "plt.subplot(2, 1, 2) \n",
    "plt.plot(x, y_cos,'g--') \n",
    "plt.title('Cosine')  \n",
    "   \n",
    "# Show the figure. \n",
    "plt.show()"
   ]
  },
  {
   "cell_type": "markdown",
   "metadata": {},
   "source": [
    "# Bar plot"
   ]
  },
  {
   "cell_type": "code",
   "execution_count": null,
   "metadata": {},
   "outputs": [],
   "source": [
    "x = [1,2,3] # Blue color by default\n",
    "y = [11,16,9]  \n",
    "\n",
    "x2 = [8,9,10] # We gave green\n",
    "y2 = [6,15,7] \n",
    "\n",
    "plt.bar(x,y)\n",
    "plt.bar(x2,y2,color='g')\n",
    "plt.show()"
   ]
  },
  {
   "cell_type": "markdown",
   "metadata": {},
   "source": [
    "# Histograms"
   ]
  },
  {
   "cell_type": "code",
   "execution_count": null,
   "metadata": {},
   "outputs": [],
   "source": [
    "a = np.array([11,33,5,6,30,50,25,40,40]) # Numbers below 10 and 40 is double because they appear twice in the series\n",
    "plt.hist(a) # plot histogram for a\n",
    "\n",
    "plt.title(\"This is a histogram\")\n",
    "plt.show()"
   ]
  },
  {
   "cell_type": "markdown",
   "metadata": {},
   "source": [
    "# Box Plot using MatPlotLib"
   ]
  },
  {
   "cell_type": "code",
   "execution_count": null,
   "metadata": {},
   "outputs": [],
   "source": [
    "data = [np.random.normal(0, std, 100) for std in range(1, 4)]\n",
    "\n",
    "# rectangular box plot\n",
    "plt.boxplot(data,vert=True,patch_artist=True); \n",
    "\n",
    "# Vert=True keeps the plot vertical else it will be horizontal\n",
    "# patch_artist=true gives colors\n",
    "# o o o in the graphs are the outliers"
   ]
  },
  {
   "cell_type": "code",
   "execution_count": null,
   "metadata": {},
   "outputs": [],
   "source": [
    "data # It is a list each list will have different number"
   ]
  },
  {
   "cell_type": "markdown",
   "metadata": {},
   "source": [
    "# Pie chart"
   ]
  },
  {
   "cell_type": "code",
   "execution_count": null,
   "metadata": {},
   "outputs": [],
   "source": [
    "# Data to plot\n",
    "labels = 'Python', 'C++', 'Ruby', 'Java'\n",
    "sizes = [215, 130, 245, 210] # This will be added and then converted to percentage\n",
    "colors = ['gold', 'yellowgreen', 'lightcoral', 'lightskyblue'] # Check if all colors are present\n",
    "explode = (0.4, 0.05,0.1, 0.05)  # explode 1st slice\n",
    "\n",
    "# Plot\n",
    "plt.pie(sizes, explode=explode, labels=labels, colors=colors,\n",
    "autopct='%1.1f%%', shadow=True)\n",
    "\n",
    "# explodes takes out the section (in our case blue); it is linked with explode = (0.4, 0.05,0.1, 0.05)\n",
    "# labels=labels gives labels\n",
    "# colors=colors; Add colors (pretty self explainatory)\n",
    "# autopct='%1.1f%%' All % will be shown in a floating format\n",
    "\n",
    "plt.axis('equal')\n",
    "plt.show()"
   ]
  },
  {
   "cell_type": "code",
   "execution_count": null,
   "metadata": {},
   "outputs": [],
   "source": []
  }
 ],
 "metadata": {
  "kernelspec": {
   "display_name": "Python 3",
   "language": "python",
   "name": "python3"
  },
  "language_info": {
   "codemirror_mode": {
    "name": "ipython",
    "version": 3
   },
   "file_extension": ".py",
   "mimetype": "text/x-python",
   "name": "python",
   "nbconvert_exporter": "python",
   "pygments_lexer": "ipython3",
   "version": "3.7.6"
  }
 },
 "nbformat": 4,
 "nbformat_minor": 4
}
